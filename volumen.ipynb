{
 "cells": [
  {
   "cell_type": "code",
   "execution_count": null,
   "metadata": {},
   "outputs": [],
   "source": [
    "import yfinance as yf\n",
    "import matplotlib.pyplot as plt\n",
    "import datetime\n",
    "\n",
    "# Definir el símbolo de ETH y las fechas deseadas\n",
    "symbol = \"ETH-USD\"\n",
    "start_date = datetime.datetime(2022, 1, 1)\n",
    "end_date = datetime.datetime(2022, 4, 27)\n",
    "\n",
    "# Obtener los precios de ETH desde Yahoo Finance\n",
    "data = yf.download(symbol, start=start_date, end=end_date)\n",
    "\n",
    "# >> Creación de nueva columna <<\n",
    "data[\"precio_medio\"] = (data.Open + data.Close + data.Low + data.High) / 4 \n",
    "\n",
    "#Volumen diario en millones en lugar de nominales\n",
    "data[\"vol_mln_usd\"] = round((data.Volume * data.precio_medio) / 1000000)\n",
    "\n",
    "#Calcula la diferencia entre cada valor en la columna y su valor anterior\n",
    "data[\"Dif Volumen\"] = data[\"vol_mln_usd\"].diff()\n",
    "\n",
    "# Crear figura y ejes\n",
    "fig, ax = plt.subplots(figsize=(10, 6))\n",
    "\n",
    "# Crear las barras para cada columna\n",
    "ax.bar(data.index, data[\"vol_mln_usd\"], label=\"Volumen en millones\")\n",
    "ax.bar(data.index, data[\"Dif Volumen\"], label=\"Diferencia de volumen\")\n",
    "\n",
    "#Personalizar la gráfica del primer eje Y\n",
    "ax.set_title(\"Análisis de volumen y movimiento de precios\")\n",
    "ax.set_xlabel(\"Fecha\")\n",
    "ax.set_ylabel(\"Millones de dólares\")\n",
    "\n",
    "#Crear segundo eje Y para el precio ajustado de cierre\n",
    "ax2 = ax.twinx()\n",
    "\n",
    "# Graficar el precio ajustado de cierre en el segundo eje Y\n",
    "ax2.plot(data.index, data[\"Adj Close\"], color='black', label=\"Precio ajustado de cierre\")\n",
    "\n",
    "# Personalizar la gráfica del segundo eje Y\n",
    "ax2.set_ylabel(\"Precio ajustado de cierre\")\n",
    "ax2.tick_params(axis='y')\n",
    "\n",
    "# Unir las leyendas de ambos ejes en una sola\n",
    "handles, labels = ax.get_legend_handles_labels()\n",
    "handles2, labels2 = ax2.get_legend_handles_labels()\n",
    "handles.extend(handles2)\n",
    "labels.extend(labels2)\n",
    "ax.legend(handles, labels, loc='upper right')\n",
    "\n",
    "# Ajustar la posición de los ejes para que no se superpongan\n",
    "fig.tight_layout()\n",
    "\n",
    "# Mostrar la gráfica\n",
    "plt.show()\n"
   ]
  }
 ],
 "metadata": {
  "kernelspec": {
   "display_name": "Python 3",
   "language": "python",
   "name": "python3"
  },
  "language_info": {
   "codemirror_mode": {
    "name": "ipython",
    "version": 3
   },
   "file_extension": ".py",
   "mimetype": "text/x-python",
   "name": "python",
   "nbconvert_exporter": "python",
   "pygments_lexer": "ipython3",
   "version": "3.11.1"
  },
  "orig_nbformat": 4
 },
 "nbformat": 4,
 "nbformat_minor": 2
}
